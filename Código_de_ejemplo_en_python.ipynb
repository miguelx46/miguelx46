{
  "nbformat": 4,
  "nbformat_minor": 0,
  "metadata": {
    "colab": {
      "provenance": [],
      "authorship_tag": "ABX9TyPNiT32ZZjOMvDW/mX87iS7",
      "include_colab_link": true
    },
    "kernelspec": {
      "name": "python3",
      "display_name": "Python 3"
    },
    "language_info": {
      "name": "python"
    }
  },
  "cells": [
    {
      "cell_type": "markdown",
      "metadata": {
        "id": "view-in-github",
        "colab_type": "text"
      },
      "source": [
        "<a href=\"https://colab.research.google.com/github/miguelx46/miguelx46/blob/main/C%C3%B3digo_de_ejemplo_en_python.ipynb\" target=\"_parent\"><img src=\"https://colab.research.google.com/assets/colab-badge.svg\" alt=\"Open In Colab\"/></a>"
      ]
    },
    {
      "cell_type": "code",
      "execution_count": null,
      "metadata": {
        "id": "28rue13o5K5s"
      },
      "outputs": [],
      "source": [
        "#gan1, gan2, y gantot son variables reales\n",
        "gan1 = float(input(\"Digite la ganancia 1: \"))\n",
        "gan2 = float(input(\"Digite la ganacia 2: \"))\n",
        "gantot = gan1 + gan2\n",
        "if gantot>0 :\n",
        "    print(\"Hubo ganancia y es igual a:\",+gantot)\n",
        "else:\n",
        "      print(\"No hubo ganancia\")"
      ]
    }
  ]
}